{
  "nbformat": 4,
  "nbformat_minor": 0,
  "metadata": {
    "colab": {
      "name": "chatbot.ipynb",
      "provenance": [],
      "collapsed_sections": []
    },
    "kernelspec": {
      "name": "python3",
      "display_name": "Python 3"
    },
    "language_info": {
      "name": "python"
    }
  },
  "cells": [
    {
      "cell_type": "markdown",
      "source": [
        "**Coding a simple chatbot from scratch in Python using NLTK**\n",
        "\n",
        "---\n",
        "\n",
        "\n",
        "\n"
      ],
      "metadata": {
        "id": "QymYAs2r3Vdk"
      }
    },
    {
      "cell_type": "markdown",
      "source": [
        "At the most basic level, chatbots are computer programs that simulate and process human conversations (written or spoken) and interact with digital devices as if people were communicating with  real people. I will be able to do it. Chatbots can be as simple as a basic program that responds to a simple query with a single line of response, or  to provide an increasingly higher level of personalization when collecting and processing information. It can be as advanced as a learning and evolving digital assistant.\n",
        "\n",
        "\n",
        "\n"
      ],
      "metadata": {
        "id": "DTwMR1XC5SjT"
      }
    },
    {
      "cell_type": "markdown",
      "source": [
        "**How do chatbots work?** \n",
        "\n",
        "---\n",
        "\n"
      ],
      "metadata": {
        "id": "t1OYVNfP6ASq"
      }
    },
    {
      "cell_type": "markdown",
      "source": [
        "Equipped with AI, automated rules, natural language processing (NLP), and machine learning (ML), chatbots process data and respond to all types of requests. \n",
        "There are two main types of \n",
        " chatbots. \n",
        "* **`A task-oriented (declarative) chatbot`** \n",
        "is a single-purpose program focused on performing one function. It uses rules, NLP, and very few MLs to generate automated  conversational responses to user requests. The interaction with these chatbots is very specific and structured and is ideal for support and service features. Think of a robust and interactive FAQ. Task-oriented chatbots can answer common questions such as: B. Business hours request or simple transaction that does not contain many variables. I'm using NLP so that end users can experience NLP interactively, but the skill is pretty basic. These are  the most  used chatbots today. \n",
        "* **`Data-driven predictive (conversational) chatbots`** , often referred to as virtual assistants or digital assistants,  are far more sophisticated, interactive, and personalized than task-oriented chatbots. These chatbots are context-aware and leverage natural language understanding (NLU), NLP, and ML to learn on the fly. Apply predictive intelligence and analytics to enable personalization based on user profiles and past user behavior. Digital assistants can learn user preferences over time, make recommendations, and even anticipate needs. In addition to monitoring data and intent, they can start a conversation. Apple's Siri and Amazon's Alexa are examples of consumer-centric, data-driven predictive chatbots.  Advanced digital assistants can connect multiple single-purpose chatbots under one roof, extract different information from each, and  combine that information to perform tasks while  maintaining context. Is never \"confused\" intention."
      ],
      "metadata": {
        "id": "4jmECb505205"
      }
    },
    {
      "cell_type": "markdown",
      "source": [
        "**Importing libraries**"
      ],
      "metadata": {
        "id": "Zcl4xQbo7aHB"
      }
    },
    {
      "cell_type": "code",
      "execution_count": null,
      "metadata": {
        "id": "HyN8unLYevTa"
      },
      "outputs": [],
      "source": [
        "import io\n",
        "import random\n",
        "import string # to process standard python strings\n",
        "import warnings\n",
        "import numpy as np\n",
        "from sklearn.feature_extraction.text import TfidfVectorizer\n",
        "from sklearn.metrics.pairwise import cosine_similarity\n",
        "import warnings\n",
        "warnings.filterwarnings('ignore')"
      ]
    },
    {
      "cell_type": "markdown",
      "source": [
        "**Installing NLTK Packages**"
      ],
      "metadata": {
        "id": "05RB32537hNL"
      }
    },
    {
      "cell_type": "code",
      "source": [
        "import nltk\n",
        "from nltk.stem import WordNetLemmatizer\n",
        "nltk.download('popular', quiet=True) # for downloading packages\n",
        "nltk.download('punkt') # first-time use only\n",
        "nltk.download('wordnet') # first-time use only"
      ],
      "metadata": {
        "colab": {
          "base_uri": "https://localhost:8080/"
        },
        "id": "F01cEDQqe1hj",
        "outputId": "d3cba142-d8b5-4488-fadc-2075d64de6a9"
      },
      "execution_count": null,
      "outputs": [
        {
          "output_type": "stream",
          "name": "stdout",
          "text": [
            "[nltk_data] Downloading package punkt to /root/nltk_data...\n",
            "[nltk_data]   Package punkt is already up-to-date!\n",
            "[nltk_data] Downloading package wordnet to /root/nltk_data...\n",
            "[nltk_data]   Package wordnet is already up-to-date!\n"
          ]
        },
        {
          "output_type": "execute_result",
          "data": {
            "text/plain": [
              "True"
            ]
          },
          "metadata": {},
          "execution_count": 14
        }
      ]
    },
    {
      "cell_type": "markdown",
      "source": [
        "**Reading in the corpus**\n",
        "\n",
        "---\n",
        "Corpus is the file that will be used by our chatbot to display the output of the questions.\n",
        "\n",
        "\n",
        "*   Copy/paste any Wikipedia page in a notebook and name it as 'chatbot.txt'.\n",
        "*   I am using my data science notes file to derive data science answers.\n",
        "\n",
        "\n"
      ],
      "metadata": {
        "id": "p3VhzWMn7nLQ"
      }
    },
    {
      "cell_type": "code",
      "source": [
        "f=open('chatbot.txt','r',errors = 'ignore')\n",
        "raw=f.read()\n",
        "raw = raw.lower()# converts to lowercase"
      ],
      "metadata": {
        "id": "VfGOJYk1fFVG"
      },
      "execution_count": null,
      "outputs": []
    },
    {
      "cell_type": "markdown",
      "source": [
        "The main issue with text data is that it is all in text format (strings). However, the Machine learning algorithms need some sort of numerical feature vector in order to perform the task. So before we start with any NLP project we need to pre-process it to make it ideal for working. Basic text pre-processing includes:\n",
        "\n",
        "* Converting the entire text into `uppercase` or `lowercase`, so that the algorithm does not treat the same words in different cases as different\n",
        "\n",
        "* `Tokenization`: Tokenization is just the term used to describe the process of converting the normal text strings into a list of tokens i.e words that we actually want. Sentence tokenizer can be used to find the list of sentences and Word tokenizer can be used to find the list of words in strings.\n",
        "\n",
        "* `Stemming`: Stemming is the process of reducing inflected (or sometimes derived) words to their stem, base or root form — generally a written word form. Example if we were to stem the following words: “Stems”, “Stemming”, “Stemmed”, “and Stemtization”, the result would be a single word “stem”.\n",
        "\n",
        "* `Lemmatization`: A slight variant of stemming is lemmatization. The major difference between these is, that, stemming can often create non-existent words, whereas lemmas are actual words. So, your root stem, meaning the word you end up with, is not something you can just look up in a dictionary, but you can look up a lemma. Examples of Lemmatization are that “run” is a base form for words like “running” or “ran” or that the word “better” and “good” are in the same lemma so they are considered the same."
      ],
      "metadata": {
        "id": "M85m8xo-8e2M"
      }
    },
    {
      "cell_type": "markdown",
      "source": [
        "**Tokenisation**"
      ],
      "metadata": {
        "id": "Y7RIGBTw9Euk"
      }
    },
    {
      "cell_type": "code",
      "source": [
        "sent_tokens = nltk.sent_tokenize(raw) # converts to list of sentences \n",
        "word_tokens = nltk.word_tokenize(raw) # converts to list of words"
      ],
      "metadata": {
        "id": "1bhrS3AdfNZG"
      },
      "execution_count": null,
      "outputs": []
    },
    {
      "cell_type": "markdown",
      "source": [
        "**Checking the file for sentences**"
      ],
      "metadata": {
        "id": "i3adJxyp9MDS"
      }
    },
    {
      "cell_type": "code",
      "source": [
        "sent_tokens[0:2]"
      ],
      "metadata": {
        "colab": {
          "base_uri": "https://localhost:8080/"
        },
        "id": "4AgbcSYLmRhc",
        "outputId": "c4c74c49-359e-4132-9fbe-5196fcc3f955"
      },
      "execution_count": null,
      "outputs": [
        {
          "output_type": "execute_result",
          "data": {
            "text/plain": [
              "['about jarvis\\ni am an a.i system created by mr.tony stark but after ultron tried to destroy me, i was transfered to mr.asif khan for further upgrades.',\n",
              " 'data science is an interdisciplinary field that uses scientific methods, processes, algorithms and systems to extract knowledge and insights from noisy, structured and unstructured data, and apply knowledge and actionable insights from data across a broad range of application domains.']"
            ]
          },
          "metadata": {},
          "execution_count": 25
        }
      ]
    },
    {
      "cell_type": "markdown",
      "source": [
        "**Checking the file for words**"
      ],
      "metadata": {
        "id": "Gm25FWHv9U7C"
      }
    },
    {
      "cell_type": "code",
      "source": [
        "word_tokens[0:2]"
      ],
      "metadata": {
        "colab": {
          "base_uri": "https://localhost:8080/"
        },
        "id": "n3uCTwe39ejX",
        "outputId": "4d6ed622-a6b3-404d-ee87-add1e9c159d4"
      },
      "execution_count": null,
      "outputs": [
        {
          "output_type": "execute_result",
          "data": {
            "text/plain": [
              "['about', 'jarvis']"
            ]
          },
          "metadata": {},
          "execution_count": 29
        }
      ]
    },
    {
      "cell_type": "markdown",
      "source": [
        "**Preprocessing**\n",
        "\n",
        "---\n",
        "\n",
        "\n",
        "We shall now define a function called LemTokens which will take as input the tokens and return normalized tokens."
      ],
      "metadata": {
        "id": "fEexzlxG-PMZ"
      }
    },
    {
      "cell_type": "code",
      "source": [
        "lemmer = nltk.stem.WordNetLemmatizer()\n",
        "#WordNet is a semantically-oriented dictionary of English included in NLTK.\n",
        "def LemTokens(tokens):\n",
        "    return [lemmer.lemmatize(token) for token in tokens]\n",
        "remove_punct_dict = dict((ord(punct), None) for punct in string.punctuation)\n",
        "\n",
        "def LemNormalize(text):\n",
        "    return LemTokens(nltk.word_tokenize(text.lower().translate(remove_punct_dict)))"
      ],
      "metadata": {
        "id": "N1AjdvtufNvO"
      },
      "execution_count": null,
      "outputs": []
    },
    {
      "cell_type": "markdown",
      "source": [
        "**Keyword matching**\n",
        "\n",
        "---\n",
        "\n",
        "\n",
        "Next, we shall define a function for a greeting by the bot i.e if a user’s input is a greeting, the bot shall return a greeting response."
      ],
      "metadata": {
        "id": "2-vkC-L2-WfD"
      }
    },
    {
      "cell_type": "code",
      "source": [
        "GREETING_INPUTS = (\"hello\", \"hi\", \"greetings\", \"sup\", \"what's up\",\"hey\",)\n",
        "GREETING_RESPONSES = [\"hi\", \"hey\", \"*nods*\", \"hi there\", \"hello\", \"I am glad! You are talking to me\"]\n",
        "def greeting(sentence):\n",
        " \n",
        "    for word in sentence.split():\n",
        "        if word.lower() in GREETING_INPUTS:\n",
        "            return random.choice(GREETING_RESPONSES)"
      ],
      "metadata": {
        "id": "orcXV61WfSjd"
      },
      "execution_count": null,
      "outputs": []
    },
    {
      "cell_type": "markdown",
      "source": [
        "**Generating Response**\n",
        "\n",
        "---\n",
        "\n",
        "\n",
        "**Bag of Words**\n",
        "\n",
        "After the initial preprocessing phase, we need to transform text into a meaningful vector (or array) of numbers. The bag-of-words is a representation of text that describes the occurrence of words within a document. It involves two things:\n",
        "\n",
        "* A vocabulary of known words.\n",
        "\n",
        "* A measure of the presence of known words.\n",
        "\n",
        "Why is it is called a “bag” of words? That is because any information about the order or structure of words in the document is discarded and the model is only concerned with whether the known words occur in the document, not where they occur in the document.\n",
        "\n",
        "The intuition behind the Bag of Words is that documents are similar if they have similar content. Also, we can learn something about the meaning of the document from its content alone.\n",
        "\n",
        "For example, if our dictionary contains the words {Learning, is, the, not, great}, and we want to vectorize the text “Learning is great”, we would have the following vector: (1, 1, 0, 0, 1).\n",
        "\n",
        "**`TF-IDF Approach`**\n",
        "\n",
        "A problem with the Bag of Words approach is that highly frequent words start to dominate in the document (e.g. larger score), but may not contain as much “informational content”. Also, it will give more weight to longer documents than shorter documents.\n",
        "\n",
        "One approach is to rescale the frequency of words by how often they appear in all documents so that the scores for frequent words like “the” that are also frequent across all documents are penalized. This approach to scoring is called Term Frequency-Inverse Document Frequency, or TF-IDF for short, where:\n",
        "\n",
        "`Term Frequency: is a scoring of the frequency of the word in the current document.`\n",
        "\n",
        "TF = (Number of times term t appears in a document)/(Number of terms in the document)\n",
        "`Inverse Document Frequency: is a scoring of how rare the word is across documents.`\n",
        "\n",
        "IDF = 1+log(N/n), where, N is the number of documents and n is the number of documents a term t has appeared in.\n",
        "\n",
        "**`Cosine Similarity`**\n",
        "\n",
        "Tf-idf weight is a weight often used in information retrieval and text mining. This weight is a statistical measure used to evaluate how important a word is to a document in a collection or corpus\n",
        "\n",
        "Cosine Similarity (d1, d2) =  Dot product(d1, d2) / ||d1|| * ||d2||\n",
        "where d1,d2 are two non zero vectors.\n",
        "\n",
        "To generate a response from our bot for input questions, the concept of document similarity will be used. We define a function response which searches the user’s utterance for one or more known keywords and returns one of several possible responses. If it doesn’t find the input matching any of the keywords, it returns a response:” I am sorry! I don’t understand you”"
      ],
      "metadata": {
        "id": "LGZlPtfF-oTN"
      }
    },
    {
      "cell_type": "code",
      "source": [
        "def response(user_response):\n",
        "    robo_response=''\n",
        "    sent_tokens.append(user_response)\n",
        "    TfidfVec = TfidfVectorizer(tokenizer=LemNormalize, stop_words='english')\n",
        "    tfidf = TfidfVec.fit_transform(sent_tokens)\n",
        "    vals = cosine_similarity(tfidf[-1], tfidf)\n",
        "    idx=vals.argsort()[0][-2]\n",
        "    flat = vals.flatten()\n",
        "    flat.sort()\n",
        "    req_tfidf = flat[-2]\n",
        "    if(req_tfidf==0):\n",
        "        robo_response=robo_response+\"I am sorry! I don't understand you\"\n",
        "        return robo_response\n",
        "    else:\n",
        "        robo_response = robo_response+sent_tokens[idx]\n",
        "        return robo_response\n",
        "\n"
      ],
      "metadata": {
        "id": "P5tYPzYUfN6R"
      },
      "execution_count": null,
      "outputs": []
    },
    {
      "cell_type": "markdown",
      "source": [
        "Finally, we will feed the lines that we want our bot to say while starting and ending a conversation depending upon user’s input."
      ],
      "metadata": {
        "id": "xQdBZRJk_0ko"
      }
    },
    {
      "cell_type": "code",
      "source": [
        "flag=True\n",
        "print(\"Jarvis: My name is Jarvis. I will answer your queries about Data science. If you want to exit, type Bye!\")\n",
        "while(flag==True):\n",
        "    user_response = input()\n",
        "    user_response=user_response.lower()\n",
        "    if(user_response!='bye'):\n",
        "        if(user_response=='thanks' or user_response=='thank you' ):\n",
        "            flag=False\n",
        "            print(\"Jarvis: You are welcome..\")\n",
        "        else:\n",
        "            if(greeting(user_response)!=None):\n",
        "                print(\"Jarvis: \"+greeting(user_response))\n",
        "            else:\n",
        "                print(\"Jarvis: \",end=\"\")\n",
        "                print(response(user_response))\n",
        "                sent_tokens.remove(user_response)\n",
        "    else:\n",
        "        flag=False\n",
        "        print(\"Jarvis: Bye! take care..\")"
      ],
      "metadata": {
        "colab": {
          "base_uri": "https://localhost:8080/"
        },
        "id": "u10t6DnRfZJL",
        "outputId": "1b81f0c7-510d-4802-bfba-4bf2fdbf8d81"
      },
      "execution_count": null,
      "outputs": [
        {
          "output_type": "stream",
          "name": "stdout",
          "text": [
            "Jarvis: My name is Jarvis. I will answer your queries about Data science. If you want to exit, type Bye!\n",
            "Hi\n",
            "Jarvis: I am glad! You are talking to me\n",
            "what is naive bayse?\n",
            "Jarvis: naive bayes\n",
            "naive bayes classifiers are used to classify by applying the bayes' theorem.\n",
            "what is machine learning?\n",
            "Jarvis: machine learning\n",
            "machine learning is a technique used to perform tasks by inferencing patterns from data.\n",
            "jarvis\n",
            "Jarvis: about jarvis\n",
            "i am an a.i system created by mr.tony stark but after ultron tried to destroy me, i was transfered to mr.asif khan for further upgrades.\n",
            "Thanks \n",
            "Jarvis: I am sorry! I don't understand you\n",
            "thanks\n",
            "Jarvis: You are welcome..\n"
          ]
        }
      ]
    }
  ]
}